{
  "cells": [
    {
      "cell_type": "markdown",
      "metadata": {
        "id": "M-DGa20PaHnu"
      },
      "source": [
        "#Задача 1\n",
        "Написать функцию на вход которой подается строка, состоящая из латинских букв.\n",
        "Функция должна вернуть количество гласных букв (a, e, i, o, u) в этой строке. Написать тесты для кода"
      ]
    },
    {
      "cell_type": "code",
      "execution_count": 6,
      "metadata": {
        "id": "XvX8X_JJ6PCb"
      },
      "outputs": [
        {
          "name": "stdout",
          "output_type": "stream",
          "text": [
            "3\n",
            "6\n",
            "4\n",
            "5\n",
            "0\n"
          ]
        }
      ],
      "source": [
        "def count_vowels(string):\n",
        "    vowels = ['a', 'e', 'i', 'o', 'u']\n",
        "    count = 0\n",
        "    for char in string:\n",
        "        if char.lower() in vowels:\n",
        "            count += 1\n",
        "    return count\n",
        "\n",
        "# Тесты\n",
        "print(count_vowels('hello world')) # 3\n",
        "print(count_vowels('Python is awesome')) # 5\n",
        "print(count_vowels('This is a test')) # 3\n",
        "print(count_vowels('AEIOU')) # 5\n",
        "print(count_vowels('')) # 0"
      ]
    },
    {
      "cell_type": "markdown",
      "metadata": {
        "id": "t2ClV_Y0bbr6"
      },
      "source": [
        "# Задача 2\n",
        "Написать функцию на вход, которой подается строка. Функция должна вернуть true, если\n",
        "каждый символ в строке встречается только 1 раз, иначе должна вернуть false. Написать тесты для кода"
      ]
    },
    {
      "cell_type": "code",
      "execution_count": 4,
      "metadata": {
        "id": "FppbECao6VIz"
      },
      "outputs": [
        {
          "name": "stdout",
          "output_type": "stream",
          "text": [
            "True\n",
            "False\n",
            "True\n",
            "True\n"
          ]
        }
      ],
      "source": [
        "def is_unique(string):\n",
        "    return len(set(string)) == len(string)\n",
        "\n",
        "# Тесты\n",
        "print(is_unique(\"abcdefg\")) # True\n",
        "print(is_unique(\"abcabc\")) # False\n",
        "print(is_unique(\"\")) # True\n",
        "print(is_unique(\"aA\")) # True"
      ]
    },
    {
      "cell_type": "markdown",
      "metadata": {
        "id": "udRiIK1cdt6E"
      },
      "source": [
        "# Задача 3\n",
        "Написать функцию, которая принимает положительное число и возвращает количество\n",
        "бит равных 1 в этом числе. Написать тесты для кода"
      ]
    },
    {
      "cell_type": "code",
      "execution_count": 5,
      "metadata": {
        "id": "6tkfDJRz6dp_"
      },
      "outputs": [
        {
          "name": "stdout",
          "output_type": "stream",
          "text": [
            "0\n",
            "1\n",
            "2\n",
            "10\n",
            "16\n"
          ]
        }
      ],
      "source": [
        "def count_bits(num):\n",
        "    return bin(num).count('1')\n",
        "\n",
        "# Тесты\n",
        "print(count_bits(0)) # 0\n",
        "print(count_bits(1)) # 1\n",
        "print(count_bits(10)) # 2\n",
        "print(count_bits(1023)) # 10\n",
        "print(count_bits(123456789)) # 16"
      ]
    },
    {
      "cell_type": "markdown",
      "metadata": {
        "id": "26dDUz-Ae17N"
      },
      "source": [
        "# Задача 4\n",
        "Написать функцию, которая принимает положительное число. Функция должна вернуть то,\n",
        "сколько раз необходимо перемножать цифры числа или результат перемножения, чтобы\n",
        "получилось число состоящее из одной цифры.\n",
        "Например, для входного числа:\n",
        "· 39 функция должна вернуть 3, так как 3*9=27 => 2*7=14 => 1*4=4\n",
        "· 4 функция должна вернуть 0, так как число уже состоит из одной цифры\n",
        "· 999 функция должна вернуть 4, так как 9*9*9=729 => 7*2*9=126 => 1*2*6=12 =>\n",
        "1*2=2. Написать тесты для кода"
      ]
    },
    {
      "cell_type": "code",
      "execution_count": 7,
      "metadata": {
        "id": "BH1A_Mgi6i4G"
      },
      "outputs": [
        {
          "name": "stdout",
          "output_type": "stream",
          "text": [
            "3\n",
            "0\n",
            "4\n",
            "2\n",
            "1\n"
          ]
        }
      ],
      "source": [
        "def multiply_digits(num):\n",
        "    if num < 10:\n",
        "        return 0\n",
        "    else:\n",
        "        count = 0\n",
        "        while num >= 10:\n",
        "            product = 1\n",
        "            for digit in str(num):\n",
        "                product *= int(digit)\n",
        "            num = product\n",
        "            count += 1\n",
        "        return count\n",
        "\n",
        "# Тесты\n",
        "print(multiply_digits(39)) # 3\n",
        "print(multiply_digits(4)) # 0\n",
        "print(multiply_digits(999)) # 4\n",
        "print(multiply_digits(12345)) # 2\n",
        "print(multiply_digits(111111)) # 5"
      ]
    },
    {
      "cell_type": "markdown",
      "metadata": {
        "id": "0nS-kIa8g8vd"
      },
      "source": [
        "# Задача 5\n",
        "Написать функцию, которая принимает два целочисленных вектора одинаковой длины и\n",
        "возвращает среднеквадратическое отклонение двух векторов. Написать тесты для кода"
      ]
    },
    {
      "cell_type": "code",
      "execution_count": 8,
      "metadata": {
        "id": "8iphx4LM6xbx"
      },
      "outputs": [
        {
          "name": "stdout",
          "output_type": "stream",
          "text": [
            "3.0\n",
            "0.0\n",
            "0.0\n",
            "None\n"
          ]
        }
      ],
      "source": [
        "import math\n",
        "\n",
        "def vector_std(v1, v2):\n",
        "    if len(v1) != len(v2):\n",
        "        return None\n",
        "    n = len(v1)\n",
        "    sum_sq_diff = 0\n",
        "    for i in range(n):\n",
        "        diff = v1[i] - v2[i]\n",
        "        sum_sq_diff += diff ** 2\n",
        "    mean_sq_diff = sum_sq_diff / n\n",
        "    std = math.sqrt(mean_sq_diff)\n",
        "    return std\n",
        "\n",
        "# Тесты\n",
        "print(vector_std([1, 2, 3], [4, 5, 6])) # 3.0\n",
        "print(vector_std([0, 0, 0], [0, 0, 0])) # 0.0\n",
        "print(vector_std([1, 2, 3], [1, 2, 3])) # 0.0\n",
        "print(vector_std([1, 2], [3, 4, 5])) # None\n"
      ]
    },
    {
      "cell_type": "markdown",
      "metadata": {
        "id": "vpIPKL439zkw"
      },
      "source": [
        "# Задача 6\n",
        "Написать функцию, принимающая целое положительное число. Функция должна вернуть\n",
        "строку вида “(n1**p1)(n2**p2)…(nk**pk)” представляющая разложение числа на простые\n",
        "множители (если pi == 1, то выводить только ni).\n",
        "Например, для числа 86240 функция должна вернуть “(2**5)(5)(7**2)(11)”. Написать тесты для кода"
      ]
    },
    {
      "cell_type": "code",
      "execution_count": 12,
      "metadata": {
        "id": "pFebmcZk94Jw"
      },
      "outputs": [
        {
          "name": "stdout",
          "output_type": "stream",
          "text": [
            "(2^5)(11)(5)(7^2)\n",
            "(17)\n",
            "(2^2)(5^2)\n",
            "(47)\n"
          ]
        }
      ],
      "source": [
        "def prime_factors(n):\n",
        "    factors = []\n",
        "    d = 2\n",
        "    while n > 1:\n",
        "        while n % d == 0:\n",
        "            factors.append(d)\n",
        "            n //= d\n",
        "        d += 1\n",
        "        if d*d > n:\n",
        "            if n > 1:\n",
        "                factors.append(n)\n",
        "                break\n",
        "    prime_factors = []\n",
        "    for factor in set(factors):\n",
        "        count = factors.count(factor)\n",
        "        if count == 1:\n",
        "            prime_factors.append(str(factor))\n",
        "        else:\n",
        "            prime_factors.append(f\"{factor}^{count}\")\n",
        "    return \"(\" + \")(\".join(prime_factors) + \")\"\n",
        "\n",
        "# Тесты\n",
        "print(prime_factors(86240)) # (2^5)(5)(7^2)(11)\n",
        "print(prime_factors(17)) # 17\n",
        "print(prime_factors(100)) # (2^2)(5^2)\n",
        "print(prime_factors(47)) # 47"
      ]
    },
    {
      "cell_type": "markdown",
      "metadata": {
        "id": "ps2s0BudX7A2"
      },
      "source": [
        "# Задача 7\n",
        "Написать функцию, принимающая целое число n, задающее количество кубиков. Функция\n",
        "должна определить, можно ли из данного кол-ва кубиков построить пирамиду, то есть\n",
        "можно ли представить число n как 1^2+2^2+3^2+…+k^2. Если можно, то функция должна\n",
        "вернуть k, иначе строку “It is impossible”. Написать тесты для кода"
      ]
    },
    {
      "cell_type": "code",
      "execution_count": 11,
      "metadata": {
        "id": "3YPjEXxhX_YT"
      },
      "outputs": [
        {
          "name": "stdout",
          "output_type": "stream",
          "text": [
            "It is impossible\n",
            "It is impossible\n",
            "10\n",
            "5\n"
          ]
        }
      ],
      "source": [
        "def build_pyramid(n):\n",
        "    sum_of_squares = 0\n",
        "    k = 1\n",
        "    while sum_of_squares < n:\n",
        "        sum_of_squares += k*k\n",
        "        k += 1\n",
        "    if sum_of_squares == n:\n",
        "        return k-1\n",
        "    else:\n",
        "        return \"It is impossible\"\n",
        "\n",
        "# Тесты\n",
        "print(build_pyramid(12)) # It is impossible\n",
        "print(build_pyramid(20)) # \"It is impossible\"\n",
        "print(build_pyramid(385)) # 10\n",
        "print(build_pyramid(55)) # 5"
      ]
    },
    {
      "cell_type": "markdown",
      "metadata": {
        "id": "KeKgmIdAQMEJ"
      },
      "source": [
        "# Задача 8\n",
        "Функция принимает на вход положительное число и определяет является ли оно сбалансированным, т.е. сумма цифр до средних равна сумме цифр после. Средними в случае нечетного числа цифр считать одну цифру, в случае четного - две средних. Написать тесты для кода"
      ]
    },
    {
      "cell_type": "code",
      "execution_count": 14,
      "metadata": {
        "id": "gMAAqtqlQrZt"
      },
      "outputs": [
        {
          "name": "stdout",
          "output_type": "stream",
          "text": [
            "False\n",
            "True\n",
            "True\n",
            "False\n",
            "True\n"
          ]
        }
      ],
      "source": [
        "def is_balanced_number(num):\n",
        "    num_str = str(num)\n",
        "    num_length = len(num_str)\n",
        "    \n",
        "    if num_length % 2 == 0:\n",
        "        middle_idx1 = num_length // 2 - 1\n",
        "        middle_idx2 = num_length // 2\n",
        "    else:\n",
        "        middle_idx1 = middle_idx2 = num_length // 2\n",
        "    \n",
        "    sum_before = sum(int(digit) for digit in num_str[:middle_idx1])\n",
        "    \n",
        "    sum_after = sum(int(digit) for digit in num_str[middle_idx2 + 1:])\n",
        "    \n",
        "    if sum_before == sum_after:\n",
        "        return True\n",
        "    else:\n",
        "        return False\n",
        "\n",
        "# Тесты\n",
        "print(is_balanced_number(123456))  # False\n",
        "print(is_balanced_number(12321))   # True\n",
        "print(is_balanced_number(123321))  # True\n",
        "print(is_balanced_number(1234567)) # False\n",
        "print(is_balanced_number(123412))  # True\n"
      ]
    }
  ],
  "metadata": {
    "colab": {
      "provenance": []
    },
    "kernelspec": {
      "display_name": "Python 3",
      "name": "python3"
    },
    "language_info": {
      "codemirror_mode": {
        "name": "ipython",
        "version": 3
      },
      "file_extension": ".py",
      "mimetype": "text/x-python",
      "name": "python",
      "nbconvert_exporter": "python",
      "pygments_lexer": "ipython3",
      "version": "3.11.5"
    }
  },
  "nbformat": 4,
  "nbformat_minor": 0
}
